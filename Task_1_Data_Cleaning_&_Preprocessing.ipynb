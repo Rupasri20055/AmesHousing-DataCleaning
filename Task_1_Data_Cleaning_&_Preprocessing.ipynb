{
  "nbformat": 4,
  "nbformat_minor": 0,
  "metadata": {
    "colab": {
      "provenance": [],
      "authorship_tag": "ABX9TyMtrAmibaUdfwesy5hQCR8E",
      "include_colab_link": true
    },
    "kernelspec": {
      "name": "python3",
      "display_name": "Python 3"
    },
    "language_info": {
      "name": "python"
    }
  },
  "cells": [
    {
      "cell_type": "markdown",
      "metadata": {
        "id": "view-in-github",
        "colab_type": "text"
      },
      "source": [
        "<a href=\"https://colab.research.google.com/github/Rupasri20055/AmesHousing-DataCleaning/blob/main/Task_1_Data_Cleaning_%26_Preprocessing.ipynb\" target=\"_parent\"><img src=\"https://colab.research.google.com/assets/colab-badge.svg\" alt=\"Open In Colab\"/></a>"
      ]
    },
    {
      "cell_type": "markdown",
      "source": [
        "**Import Libraries and Dataset**"
      ],
      "metadata": {
        "id": "rX2_-_J5qX--"
      }
    },
    {
      "cell_type": "code",
      "execution_count": 2,
      "metadata": {
        "colab": {
          "base_uri": "https://localhost:8080/"
        },
        "id": "05BOWSoZqAKH",
        "outputId": "4b2d3262-d47c-48a7-b0a5-54a5b4222257"
      },
      "outputs": [
        {
          "output_type": "stream",
          "name": "stdout",
          "text": [
            "   Order        PID  MS SubClass MS Zoning  Lot Frontage  Lot Area Street  \\\n",
            "0      1  526301100           20        RL         141.0     31770   Pave   \n",
            "1      2  526350040           20        RH          80.0     11622   Pave   \n",
            "2      3  526351010           20        RL          81.0     14267   Pave   \n",
            "3      4  526353030           20        RL          93.0     11160   Pave   \n",
            "4      5  527105010           60        RL          74.0     13830   Pave   \n",
            "\n",
            "  Alley Lot Shape Land Contour  ... Pool Area Pool QC  Fence Misc Feature  \\\n",
            "0   NaN       IR1          Lvl  ...         0     NaN    NaN          NaN   \n",
            "1   NaN       Reg          Lvl  ...         0     NaN  MnPrv          NaN   \n",
            "2   NaN       IR1          Lvl  ...         0     NaN    NaN         Gar2   \n",
            "3   NaN       Reg          Lvl  ...         0     NaN    NaN          NaN   \n",
            "4   NaN       IR1          Lvl  ...         0     NaN  MnPrv          NaN   \n",
            "\n",
            "  Misc Val Mo Sold Yr Sold Sale Type  Sale Condition  SalePrice  \n",
            "0        0       5    2010       WD           Normal     215000  \n",
            "1        0       6    2010       WD           Normal     105000  \n",
            "2    12500       6    2010       WD           Normal     172000  \n",
            "3        0       4    2010       WD           Normal     244000  \n",
            "4        0       3    2010       WD           Normal     189900  \n",
            "\n",
            "[5 rows x 82 columns]\n",
            "<class 'pandas.core.frame.DataFrame'>\n",
            "RangeIndex: 2930 entries, 0 to 2929\n",
            "Data columns (total 82 columns):\n",
            " #   Column           Non-Null Count  Dtype  \n",
            "---  ------           --------------  -----  \n",
            " 0   Order            2930 non-null   int64  \n",
            " 1   PID              2930 non-null   int64  \n",
            " 2   MS SubClass      2930 non-null   int64  \n",
            " 3   MS Zoning        2930 non-null   object \n",
            " 4   Lot Frontage     2440 non-null   float64\n",
            " 5   Lot Area         2930 non-null   int64  \n",
            " 6   Street           2930 non-null   object \n",
            " 7   Alley            198 non-null    object \n",
            " 8   Lot Shape        2930 non-null   object \n",
            " 9   Land Contour     2930 non-null   object \n",
            " 10  Utilities        2930 non-null   object \n",
            " 11  Lot Config       2930 non-null   object \n",
            " 12  Land Slope       2930 non-null   object \n",
            " 13  Neighborhood     2930 non-null   object \n",
            " 14  Condition 1      2930 non-null   object \n",
            " 15  Condition 2      2930 non-null   object \n",
            " 16  Bldg Type        2930 non-null   object \n",
            " 17  House Style      2930 non-null   object \n",
            " 18  Overall Qual     2930 non-null   int64  \n",
            " 19  Overall Cond     2930 non-null   int64  \n",
            " 20  Year Built       2930 non-null   int64  \n",
            " 21  Year Remod/Add   2930 non-null   int64  \n",
            " 22  Roof Style       2930 non-null   object \n",
            " 23  Roof Matl        2930 non-null   object \n",
            " 24  Exterior 1st     2930 non-null   object \n",
            " 25  Exterior 2nd     2930 non-null   object \n",
            " 26  Mas Vnr Type     1155 non-null   object \n",
            " 27  Mas Vnr Area     2907 non-null   float64\n",
            " 28  Exter Qual       2930 non-null   object \n",
            " 29  Exter Cond       2930 non-null   object \n",
            " 30  Foundation       2930 non-null   object \n",
            " 31  Bsmt Qual        2850 non-null   object \n",
            " 32  Bsmt Cond        2850 non-null   object \n",
            " 33  Bsmt Exposure    2847 non-null   object \n",
            " 34  BsmtFin Type 1   2850 non-null   object \n",
            " 35  BsmtFin SF 1     2929 non-null   float64\n",
            " 36  BsmtFin Type 2   2849 non-null   object \n",
            " 37  BsmtFin SF 2     2929 non-null   float64\n",
            " 38  Bsmt Unf SF      2929 non-null   float64\n",
            " 39  Total Bsmt SF    2929 non-null   float64\n",
            " 40  Heating          2930 non-null   object \n",
            " 41  Heating QC       2930 non-null   object \n",
            " 42  Central Air      2930 non-null   object \n",
            " 43  Electrical       2929 non-null   object \n",
            " 44  1st Flr SF       2930 non-null   int64  \n",
            " 45  2nd Flr SF       2930 non-null   int64  \n",
            " 46  Low Qual Fin SF  2930 non-null   int64  \n",
            " 47  Gr Liv Area      2930 non-null   int64  \n",
            " 48  Bsmt Full Bath   2928 non-null   float64\n",
            " 49  Bsmt Half Bath   2928 non-null   float64\n",
            " 50  Full Bath        2930 non-null   int64  \n",
            " 51  Half Bath        2930 non-null   int64  \n",
            " 52  Bedroom AbvGr    2930 non-null   int64  \n",
            " 53  Kitchen AbvGr    2930 non-null   int64  \n",
            " 54  Kitchen Qual     2930 non-null   object \n",
            " 55  TotRms AbvGrd    2930 non-null   int64  \n",
            " 56  Functional       2930 non-null   object \n",
            " 57  Fireplaces       2930 non-null   int64  \n",
            " 58  Fireplace Qu     1508 non-null   object \n",
            " 59  Garage Type      2773 non-null   object \n",
            " 60  Garage Yr Blt    2771 non-null   float64\n",
            " 61  Garage Finish    2771 non-null   object \n",
            " 62  Garage Cars      2929 non-null   float64\n",
            " 63  Garage Area      2929 non-null   float64\n",
            " 64  Garage Qual      2771 non-null   object \n",
            " 65  Garage Cond      2771 non-null   object \n",
            " 66  Paved Drive      2930 non-null   object \n",
            " 67  Wood Deck SF     2930 non-null   int64  \n",
            " 68  Open Porch SF    2930 non-null   int64  \n",
            " 69  Enclosed Porch   2930 non-null   int64  \n",
            " 70  3Ssn Porch       2930 non-null   int64  \n",
            " 71  Screen Porch     2930 non-null   int64  \n",
            " 72  Pool Area        2930 non-null   int64  \n",
            " 73  Pool QC          13 non-null     object \n",
            " 74  Fence            572 non-null    object \n",
            " 75  Misc Feature     106 non-null    object \n",
            " 76  Misc Val         2930 non-null   int64  \n",
            " 77  Mo Sold          2930 non-null   int64  \n",
            " 78  Yr Sold          2930 non-null   int64  \n",
            " 79  Sale Type        2930 non-null   object \n",
            " 80  Sale Condition   2930 non-null   object \n",
            " 81  SalePrice        2930 non-null   int64  \n",
            "dtypes: float64(11), int64(28), object(43)\n",
            "memory usage: 1.8+ MB\n",
            "None\n",
            "            Order           PID  MS SubClass  Lot Frontage       Lot Area  \\\n",
            "count  2930.00000  2.930000e+03  2930.000000   2440.000000    2930.000000   \n",
            "mean   1465.50000  7.144645e+08    57.387372     69.224590   10147.921843   \n",
            "std     845.96247  1.887308e+08    42.638025     23.365335    7880.017759   \n",
            "min       1.00000  5.263011e+08    20.000000     21.000000    1300.000000   \n",
            "25%     733.25000  5.284770e+08    20.000000     58.000000    7440.250000   \n",
            "50%    1465.50000  5.354536e+08    50.000000     68.000000    9436.500000   \n",
            "75%    2197.75000  9.071811e+08    70.000000     80.000000   11555.250000   \n",
            "max    2930.00000  1.007100e+09   190.000000    313.000000  215245.000000   \n",
            "\n",
            "       Overall Qual  Overall Cond   Year Built  Year Remod/Add  Mas Vnr Area  \\\n",
            "count   2930.000000   2930.000000  2930.000000     2930.000000   2907.000000   \n",
            "mean       6.094881      5.563140  1971.356314     1984.266553    101.896801   \n",
            "std        1.411026      1.111537    30.245361       20.860286    179.112611   \n",
            "min        1.000000      1.000000  1872.000000     1950.000000      0.000000   \n",
            "25%        5.000000      5.000000  1954.000000     1965.000000      0.000000   \n",
            "50%        6.000000      5.000000  1973.000000     1993.000000      0.000000   \n",
            "75%        7.000000      6.000000  2001.000000     2004.000000    164.000000   \n",
            "max       10.000000      9.000000  2010.000000     2010.000000   1600.000000   \n",
            "\n",
            "       ...  Wood Deck SF  Open Porch SF  Enclosed Porch   3Ssn Porch  \\\n",
            "count  ...   2930.000000    2930.000000     2930.000000  2930.000000   \n",
            "mean   ...     93.751877      47.533447       23.011604     2.592491   \n",
            "std    ...    126.361562      67.483400       64.139059    25.141331   \n",
            "min    ...      0.000000       0.000000        0.000000     0.000000   \n",
            "25%    ...      0.000000       0.000000        0.000000     0.000000   \n",
            "50%    ...      0.000000      27.000000        0.000000     0.000000   \n",
            "75%    ...    168.000000      70.000000        0.000000     0.000000   \n",
            "max    ...   1424.000000     742.000000     1012.000000   508.000000   \n",
            "\n",
            "       Screen Porch    Pool Area      Misc Val      Mo Sold      Yr Sold  \\\n",
            "count   2930.000000  2930.000000   2930.000000  2930.000000  2930.000000   \n",
            "mean      16.002048     2.243345     50.635154     6.216041  2007.790444   \n",
            "std       56.087370    35.597181    566.344288     2.714492     1.316613   \n",
            "min        0.000000     0.000000      0.000000     1.000000  2006.000000   \n",
            "25%        0.000000     0.000000      0.000000     4.000000  2007.000000   \n",
            "50%        0.000000     0.000000      0.000000     6.000000  2008.000000   \n",
            "75%        0.000000     0.000000      0.000000     8.000000  2009.000000   \n",
            "max      576.000000   800.000000  17000.000000    12.000000  2010.000000   \n",
            "\n",
            "           SalePrice  \n",
            "count    2930.000000  \n",
            "mean   180796.060068  \n",
            "std     79886.692357  \n",
            "min     12789.000000  \n",
            "25%    129500.000000  \n",
            "50%    160000.000000  \n",
            "75%    213500.000000  \n",
            "max    755000.000000  \n",
            "\n",
            "[8 rows x 39 columns]\n"
          ]
        }
      ],
      "source": [
        "import pandas as pd\n",
        "import numpy as np\n",
        "import seaborn as sns\n",
        "import matplotlib.pyplot as plt\n",
        "\n",
        "# Load dataset\n",
        "df = pd.read_csv('AmesHousing.csv')\n",
        "\n",
        "# View first few rows\n",
        "print(df.head())\n",
        "\n",
        "# View data types and null counts\n",
        "print(df.info())\n",
        "\n",
        "# Summary stats\n",
        "print(df.describe())\n"
      ]
    },
    {
      "cell_type": "markdown",
      "source": [
        "**Handle Missing Values**"
      ],
      "metadata": {
        "id": "VE5U1-PEqtET"
      }
    },
    {
      "cell_type": "code",
      "source": [
        "# Check for missing values\n",
        "print(df.isnull().sum())\n"
      ],
      "metadata": {
        "colab": {
          "base_uri": "https://localhost:8080/"
        },
        "id": "TfpfcGiuqewd",
        "outputId": "bbd2d995-1193-4fc1-cd58-e19d8a6904b0"
      },
      "execution_count": 3,
      "outputs": [
        {
          "output_type": "stream",
          "name": "stdout",
          "text": [
            "Order               0\n",
            "PID                 0\n",
            "MS SubClass         0\n",
            "MS Zoning           0\n",
            "Lot Frontage      490\n",
            "                 ... \n",
            "Mo Sold             0\n",
            "Yr Sold             0\n",
            "Sale Type           0\n",
            "Sale Condition      0\n",
            "SalePrice           0\n",
            "Length: 82, dtype: int64\n"
          ]
        }
      ]
    },
    {
      "cell_type": "markdown",
      "source": [
        "fill missing numerical values with mean/median and categorical with mode:\n"
      ],
      "metadata": {
        "id": "Xfqi7aDgq3IL"
      }
    },
    {
      "cell_type": "code",
      "source": [
        "# Fill numerical missing values\n",
        "num_cols = df.select_dtypes(include=['float64', 'int64']).columns\n",
        "\n",
        "for col in num_cols:\n",
        "    df[col] = df[col].fillna(df[col].median())\n",
        "\n",
        "# Fill categorical missing values\n",
        "cat_cols = df.select_dtypes(include='object').columns\n",
        "\n",
        "for col in cat_cols:\n",
        "    df[col] = df[col].fillna(df[col].mode()[0])\n"
      ],
      "metadata": {
        "id": "irK_q-kCqyt2"
      },
      "execution_count": 4,
      "outputs": []
    },
    {
      "cell_type": "markdown",
      "source": [
        "**Convert Categorical Features into Numerical**"
      ],
      "metadata": {
        "id": "H2rCS-m9rEzF"
      }
    },
    {
      "cell_type": "code",
      "source": [
        "from sklearn.preprocessing import LabelEncoder\n",
        "\n",
        "le = LabelEncoder()\n",
        "\n",
        "for col in cat_cols:\n",
        "    df[col] = le.fit_transform(df[col])\n"
      ],
      "metadata": {
        "id": "U5_8ShLlrAJ3"
      },
      "execution_count": 5,
      "outputs": []
    },
    {
      "cell_type": "markdown",
      "source": [
        "**Normalize/Standardize Numerical Features**"
      ],
      "metadata": {
        "id": "ORWsvCEZrMTX"
      }
    },
    {
      "cell_type": "code",
      "source": [
        "from sklearn.preprocessing import StandardScaler\n",
        "\n",
        "scaler = StandardScaler()\n",
        "\n",
        "df[num_cols] = scaler.fit_transform(df[num_cols])\n"
      ],
      "metadata": {
        "id": "Tst5mD3IrId_"
      },
      "execution_count": 6,
      "outputs": []
    },
    {
      "cell_type": "markdown",
      "source": [
        "**Visualize and Remove Outliers**"
      ],
      "metadata": {
        "id": "B8bT8ELurSPM"
      }
    },
    {
      "cell_type": "code",
      "source": [
        "sns.boxplot(x=df['SalePrice'])\n",
        "plt.title('Boxplot for SalePrice')\n",
        "plt.show()\n"
      ],
      "metadata": {
        "colab": {
          "base_uri": "https://localhost:8080/",
          "height": 472
        },
        "id": "OtLTWD5arP2o",
        "outputId": "a551ee58-1ed5-4805-e381-598494262598"
      },
      "execution_count": 7,
      "outputs": [
        {
          "output_type": "display_data",
          "data": {
            "text/plain": [
              "<Figure size 640x480 with 1 Axes>"
            ],
            "image/png": "[encoded data removed]"
          },
          "metadata": {}
        }
      ]
    },
    {
      "cell_type": "markdown",
      "source": [
        "Remove outliers using the IQR method:"
      ],
      "metadata": {
        "id": "nThOmAl-rZoL"
      }
    },
    {
      "cell_type": "code",
      "source": [
        "Q1 = df['SalePrice'].quantile(0.25)\n",
        "Q3 = df['SalePrice'].quantile(0.75)\n",
        "IQR = Q3 - Q1\n",
        "\n",
        "# Define bounds\n",
        "lower_bound = Q1 - 1.5 * IQR\n",
        "upper_bound = Q3 + 1.5 * IQR\n",
        "\n",
        "# Remove outliers\n",
        "df = df[(df['SalePrice'] >= lower_bound) & (df['SalePrice'] <= upper_bound)]\n"
      ],
      "metadata": {
        "id": "TYUVNi8krWow"
      },
      "execution_count": 8,
      "outputs": []
    },
    {
      "cell_type": "markdown",
      "source": [
        "** Final Check**"
      ],
      "metadata": {
        "id": "xOSD5tJ9rg0q"
      }
    },
    {
      "cell_type": "code",
      "source": [
        "print(df.head())\n",
        "print(df.info())\n"
      ],
      "metadata": {
        "colab": {
          "base_uri": "https://localhost:8080/"
        },
        "id": "ISToYJAXrdI-",
        "outputId": "765054e8-cd90-42ec-8c8a-78c766856880"
      },
      "execution_count": 9,
      "outputs": [
        {
          "output_type": "stream",
          "name": "stdout",
          "text": [
            "      Order       PID  MS SubClass  MS Zoning  Lot Frontage  Lot Area  Street  \\\n",
            "0 -1.731460 -0.997164    -0.877005          5      3.375742  2.744381       1   \n",
            "1 -1.730277 -0.996904    -0.877005          4      0.514952  0.187097       1   \n",
            "2 -1.729095 -0.996899    -0.877005          5      0.561850  0.522814       1   \n",
            "3 -1.727913 -0.996888    -0.877005          5      1.124628  0.128458       1   \n",
            "4 -1.726731 -0.992903     0.061285          5      0.233563  0.467348       1   \n",
            "\n",
            "   Alley  Lot Shape  Land Contour  ...  Pool Area  Pool QC  Fence  \\\n",
            "0      0          0             3  ...  -0.063031        0      2   \n",
            "1      0          3             3  ...  -0.063031        0      2   \n",
            "2      0          0             3  ...  -0.063031        0      2   \n",
            "3      0          3             3  ...  -0.063031        0      2   \n",
            "4      0          0             3  ...  -0.063031        0      2   \n",
            "\n",
            "   Misc Feature   Misc Val   Mo Sold   Yr Sold  Sale Type  Sale Condition  \\\n",
            "0             3  -0.089422 -0.448057  1.678499          9               4   \n",
            "1             3  -0.089422 -0.079602  1.678499          9               4   \n",
            "2             1  21.985725 -0.079602  1.678499          9               4   \n",
            "3             3  -0.089422 -0.816513  1.678499          9               4   \n",
            "4             3  -0.089422 -1.184969  1.678499          9               4   \n",
            "\n",
            "   SalePrice  \n",
            "0   0.428229  \n",
            "1  -0.948957  \n",
            "2  -0.110125  \n",
            "3   0.791305  \n",
            "4   0.113980  \n",
            "\n",
            "[5 rows x 82 columns]\n",
            "<class 'pandas.core.frame.DataFrame'>\n",
            "Index: 2793 entries, 0 to 2929\n",
            "Data columns (total 82 columns):\n",
            " #   Column           Non-Null Count  Dtype  \n",
            "---  ------           --------------  -----  \n",
            " 0   Order            2793 non-null   float64\n",
            " 1   PID              2793 non-null   float64\n",
            " 2   MS SubClass      2793 non-null   float64\n",
            " 3   MS Zoning        2793 non-null   int64  \n",
            " 4   Lot Frontage     2793 non-null   float64\n",
            " 5   Lot Area         2793 non-null   float64\n",
            " 6   Street           2793 non-null   int64  \n",
            " 7   Alley            2793 non-null   int64  \n",
            " 8   Lot Shape        2793 non-null   int64  \n",
            " 9   Land Contour     2793 non-null   int64  \n",
            " 10  Utilities        2793 non-null   int64  \n",
            " 11  Lot Config       2793 non-null   int64  \n",
            " 12  Land Slope       2793 non-null   int64  \n",
            " 13  Neighborhood     2793 non-null   int64  \n",
            " 14  Condition 1      2793 non-null   int64  \n",
            " 15  Condition 2      2793 non-null   int64  \n",
            " 16  Bldg Type        2793 non-null   int64  \n",
            " 17  House Style      2793 non-null   int64  \n",
            " 18  Overall Qual     2793 non-null   float64\n",
            " 19  Overall Cond     2793 non-null   float64\n",
            " 20  Year Built       2793 non-null   float64\n",
            " 21  Year Remod/Add   2793 non-null   float64\n",
            " 22  Roof Style       2793 non-null   int64  \n",
            " 23  Roof Matl        2793 non-null   int64  \n",
            " 24  Exterior 1st     2793 non-null   int64  \n",
            " 25  Exterior 2nd     2793 non-null   int64  \n",
            " 26  Mas Vnr Type     2793 non-null   int64  \n",
            " 27  Mas Vnr Area     2793 non-null   float64\n",
            " 28  Exter Qual       2793 non-null   int64  \n",
            " 29  Exter Cond       2793 non-null   int64  \n",
            " 30  Foundation       2793 non-null   int64  \n",
            " 31  Bsmt Qual        2793 non-null   int64  \n",
            " 32  Bsmt Cond        2793 non-null   int64  \n",
            " 33  Bsmt Exposure    2793 non-null   int64  \n",
            " 34  BsmtFin Type 1   2793 non-null   int64  \n",
            " 35  BsmtFin SF 1     2793 non-null   float64\n",
            " 36  BsmtFin Type 2   2793 non-null   int64  \n",
            " 37  BsmtFin SF 2     2793 non-null   float64\n",
            " 38  Bsmt Unf SF      2793 non-null   float64\n",
            " 39  Total Bsmt SF    2793 non-null   float64\n",
            " 40  Heating          2793 non-null   int64  \n",
            " 41  Heating QC       2793 non-null   int64  \n",
            " 42  Central Air      2793 non-null   int64  \n",
            " 43  Electrical       2793 non-null   int64  \n",
            " 44  1st Flr SF       2793 non-null   float64\n",
            " 45  2nd Flr SF       2793 non-null   float64\n",
            " 46  Low Qual Fin SF  2793 non-null   float64\n",
            " 47  Gr Liv Area      2793 non-null   float64\n",
            " 48  Bsmt Full Bath   2793 non-null   float64\n",
            " 49  Bsmt Half Bath   2793 non-null   float64\n",
            " 50  Full Bath        2793 non-null   float64\n",
            " 51  Half Bath        2793 non-null   float64\n",
            " 52  Bedroom AbvGr    2793 non-null   float64\n",
            " 53  Kitchen AbvGr    2793 non-null   float64\n",
            " 54  Kitchen Qual     2793 non-null   int64  \n",
            " 55  TotRms AbvGrd    2793 non-null   float64\n",
            " 56  Functional       2793 non-null   int64  \n",
            " 57  Fireplaces       2793 non-null   float64\n",
            " 58  Fireplace Qu     2793 non-null   int64  \n",
            " 59  Garage Type      2793 non-null   int64  \n",
            " 60  Garage Yr Blt    2793 non-null   float64\n",
            " 61  Garage Finish    2793 non-null   int64  \n",
            " 62  Garage Cars      2793 non-null   float64\n",
            " 63  Garage Area      2793 non-null   float64\n",
            " 64  Garage Qual      2793 non-null   int64  \n",
            " 65  Garage Cond      2793 non-null   int64  \n",
            " 66  Paved Drive      2793 non-null   int64  \n",
            " 67  Wood Deck SF     2793 non-null   float64\n",
            " 68  Open Porch SF    2793 non-null   float64\n",
            " 69  Enclosed Porch   2793 non-null   float64\n",
            " 70  3Ssn Porch       2793 non-null   float64\n",
            " 71  Screen Porch     2793 non-null   float64\n",
            " 72  Pool Area        2793 non-null   float64\n",
            " 73  Pool QC          2793 non-null   int64  \n",
            " 74  Fence            2793 non-null   int64  \n",
            " 75  Misc Feature     2793 non-null   int64  \n",
            " 76  Misc Val         2793 non-null   float64\n",
            " 77  Mo Sold          2793 non-null   float64\n",
            " 78  Yr Sold          2793 non-null   float64\n",
            " 79  Sale Type        2793 non-null   int64  \n",
            " 80  Sale Condition   2793 non-null   int64  \n",
            " 81  SalePrice        2793 non-null   float64\n",
            "dtypes: float64(39), int64(43)\n",
            "memory usage: 1.8 MB\n",
            "None\n"
          ]
        }
      ]
    },
    {
      "cell_type": "code",
      "source": [],
      "metadata": {
        "id": "asmJk1IVrkLQ"
      },
      "execution_count": null,
      "outputs": []
    }
  ]
}